{
 "cells": [
  {
   "cell_type": "code",
   "execution_count": null,
   "metadata": {},
   "outputs": [],
   "source": [
    "import matplotlib.pyplot as plt\n",
    "import numpy as np\n",
    "from watermark.sparse_watermark import StegoWatermarkDetector\n",
    "# Generate some random data for demonstration\n",
    "data = np.random.randn(1000)\n",
    "\n",
    "# Plot histogram\n",
    "plt.hist(data, bins=30, edgecolor='black')  # Adjust the number of bins as needed\n",
    "plt.title('Histogram')\n",
    "plt.xlabel('Values')\n",
    "plt.ylabel('Frequency')\n",
    "\n",
    "# Show the plot\n",
    "plt.show()\n"
   ]
  },
  {
   "cell_type": "code",
   "execution_count": 1,
   "metadata": {},
   "outputs": [
    {
     "ename": "SyntaxError",
     "evalue": "incomplete input (1484652475.py, line 15)",
     "output_type": "error",
     "traceback": [
      "\u001b[0;36m  Cell \u001b[0;32mIn[1], line 15\u001b[0;36m\u001b[0m\n\u001b[0;31m    \u001b[0m\n\u001b[0m    ^\u001b[0m\n\u001b[0;31mSyntaxError\u001b[0m\u001b[0;31m:\u001b[0m incomplete input\n"
     ]
    }
   ],
   "source": [
    "import json\n",
    "from transformers import AutoTokenizer\n",
    "list_levenshtein = []\n",
    "tokenizer = AutoTokenizer.from_pretrained(\"meta-llama/Llama-2-7b-chat-hf\", trust_remote_code=True)\n",
    "\n",
    "detector = StegoWatermarkDetector(\n",
    "    tokenizer = tokenizer,\n",
    "    secret_watermark= \"password\")\n",
    "with open(\"/home/duy/Desktop/WaterBench/pred/llama2-7b-chat-4k_sparse_g0.25_d4.5_hard/longform_qa.jsonl\", \"r\") as f:\n",
    "    # lines\n",
    "    lines = f.readlines()\n",
    "\n",
    "    texts = [json.loads(line)[\"pred\"] for line in lines]\n",
    "    for text in texts:\n",
    "        list_levenshtein.append(detector.detect(text,True))\n"
   ]
  },
  {
   "cell_type": "code",
   "execution_count": null,
   "metadata": {},
   "outputs": [],
   "source": []
  }
 ],
 "metadata": {
  "kernelspec": {
   "display_name": "llm_stego",
   "language": "python",
   "name": "python3"
  },
  "language_info": {
   "codemirror_mode": {
    "name": "ipython",
    "version": 3
   },
   "file_extension": ".py",
   "mimetype": "text/x-python",
   "name": "python",
   "nbconvert_exporter": "python",
   "pygments_lexer": "ipython3",
   "version": "3.10.13"
  },
  "orig_nbformat": 4
 },
 "nbformat": 4,
 "nbformat_minor": 2
}
